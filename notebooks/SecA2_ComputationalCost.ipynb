{
 "cells": [
  {
   "cell_type": "markdown",
   "id": "29d858b4",
   "metadata": {},
   "source": [
    "# Appendix A.2: Computational Cost"
   ]
  },
  {
   "cell_type": "markdown",
   "id": "83589cf3",
   "metadata": {},
   "source": [
    "This notebook reproduces the analyses in the Appendix, Section A.2 of the manuscript, including Tables 1-3.\n",
    "\n",
    "> **Note:** By default, the computational cost experiments are run in parallel on 6 cores. If you have less cores available on your system, you should change that number according to your resources: `addprocs(5)` means that 5 processes on separates cores are added to the one being used already, so if you want to use, e.g., 4 cores, change that to `addprocs(3)`. If you do not want to run the code in parallel or have no sufficient resources to do to, you can comment out the line altogether and the code will run without further changes on a single core. "
   ]
  },
  {
   "cell_type": "markdown",
   "id": "c096dbe5",
   "metadata": {},
   "source": [
    "## Setup "
   ]
  },
  {
   "cell_type": "markdown",
   "id": "ef471b80",
   "metadata": {},
   "source": [
    "First, we set up the parallel computing: "
   ]
  },
  {
   "cell_type": "code",
   "execution_count": 6,
   "id": "20fd550e",
   "metadata": {},
   "outputs": [
    {
     "data": {
      "text/plain": [
       "5-element Vector{Int64}:\n",
       " 2\n",
       " 3\n",
       " 4\n",
       " 5\n",
       " 6"
      ]
     },
     "execution_count": 6,
     "metadata": {},
     "output_type": "execute_result"
    }
   ],
   "source": [
    "using Distributed\n",
    "addprocs(5)"
   ]
  },
  {
   "cell_type": "markdown",
   "id": "ea367f4f",
   "metadata": {},
   "source": [
    "Next, we load the Julia environment specified in the `Project.toml` and `Manifest.toml` files: First, we activate this environment, then install all dependencies (if some packages are not yet installed), and print out which packages and versions are currently in our environment. To make it available on all used processes, we use the `@everywhere` macro."
   ]
  },
  {
   "cell_type": "code",
   "execution_count": 7,
   "id": "3eb69eca",
   "metadata": {},
   "outputs": [
    {
     "name": "stdout",
     "output_type": "stream",
     "text": [
      "      From worker 6:\t\u001b[32m\u001b[1m  Activating\u001b[22m\u001b[39m environment at `~/Desktop/DeepDynamicModelingWithJust2TimePoints/Project.toml`\n",
      "      From worker 5:\t\u001b[32m\u001b[1m  Activating\u001b[22m\u001b[39m environment at `~/Desktop/DeepDynamicModelingWithJust2TimePoints/Project.toml`\n",
      "      From worker 2:\t\u001b[32m\u001b[1m  Activating\u001b[22m\u001b[39m environment at `~/Desktop/DeepDynamicModelingWithJust2TimePoints/Project.toml`\n",
      "      From worker 3:\t\u001b[32m\u001b[1m  Activating\u001b[22m\u001b[39m environment at `~/Desktop/DeepDynamicModelingWithJust2TimePoints/Project.toml`\n",
      "      From worker 4:\t\u001b[32m\u001b[1m  Activating\u001b[22m\u001b[39m environment at `~/Desktop/DeepDynamicModelingWithJust2TimePoints/Project.toml`\n"
     ]
    },
    {
     "name": "stderr",
     "output_type": "stream",
     "text": [
      "\u001b[32m\u001b[1m  Activating\u001b[22m\u001b[39m environment at `~/Desktop/DeepDynamicModelingWithJust2TimePoints/Project.toml`\n"
     ]
    }
   ],
   "source": [
    "@everywhere using Pkg; \n",
    "\n",
    "# all paths are relative to the `notebook` subfolder main folder, i.e., assuming `pwd()` outputs\n",
    "# \".../DeepDynamicodelingWithJust2TimePoints/notebooks\"\n",
    "\n",
    "@everywhere Pkg.activate(\"../.\")\n",
    "Pkg.instantiate()"
   ]
  },
  {
   "cell_type": "markdown",
   "id": "cac6b3ca",
   "metadata": {},
   "source": [
    "Next, we load and precompile the necessary packages (in the versions specified by the `*.toml` files). "
   ]
  },
  {
   "cell_type": "code",
   "execution_count": 8,
   "id": "9f4c3d12",
   "metadata": {},
   "outputs": [],
   "source": [
    "@everywhere using BenchmarkTools\n",
    "@everywhere using DataFrames\n",
    "@everywhere using Distributed\n",
    "@everywhere using Distributions\n",
    "@everywhere using Random\n",
    "@everywhere using Flux\n",
    "@everywhere using DiffEqFlux\n",
    "@everywhere using OrdinaryDiffEq\n",
    "@everywhere using SharedArrays"
   ]
  },
  {
   "cell_type": "markdown",
   "id": "e6e43804",
   "metadata": {},
   "source": [
    "Additionally, we import some user-defined functions, with different files for separate functionality, also using `@everywhere` to define them on all procs. "
   ]
  },
  {
   "cell_type": "code",
   "execution_count": 9,
   "id": "fbc0ecee",
   "metadata": {},
   "outputs": [],
   "source": [
    "@everywhere include(\"../src/simulation.jl\") # for simulating data\n",
    "@everywhere include(\"../src/model.jl\") # for initializing and training the model\n",
    "@everywhere include(\"../src/benchmarking.jl\") # for plotting data and learned trajectories"
   ]
  },
  {
   "cell_type": "markdown",
   "id": "0ff4b24e",
   "metadata": {},
   "source": [
    "## Define ground truth developments"
   ]
  },
  {
   "cell_type": "markdown",
   "id": "a0008a8e",
   "metadata": {},
   "source": [
    "First, we define the ground-truth developments as solutions of the underlying two-dimensional linear ODE system with two distinct sets of parameters, corresponding to two groups of individuals with two distinct underlying development patterns. "
   ]
  },
  {
   "cell_type": "code",
   "execution_count": 10,
   "id": "0048263d",
   "metadata": {},
   "outputs": [],
   "source": [
    "# define initial condition\n",
    "@everywhere true_u0 = Float32[2, 1]\n",
    "# define time span on which to solve the ODE\n",
    "@everywhere tspan = (0.0f0, 10.0f0)\n",
    "# define parameters for the two distinct groups\n",
    "@everywhere true_odeparams_group1 = Float32[-0.2, 0.00, 0.00, -0.2]\n",
    "@everywhere true_odeparams_group2 = Float32[-0.2, 0.00, 0.00, 0.2]\n",
    "  \n",
    "# define corresponding ODE problems for the two groups\n",
    "@everywhere prob1 = ODEProblem(linear_2d_system,true_u0,tspan,true_odeparams_group1)\n",
    "@everywhere prob2 = ODEProblem(linear_2d_system,true_u0,tspan,true_odeparams_group2)\n",
    "  \n",
    "# solve ODE systems to obtain \"true\" underlying trajectory in each group\n",
    "@everywhere dt=0.1\n",
    "@everywhere sol_group1 = solve(prob1, Tsit5(), saveat = dt);\n",
    "@everywhere sol_group2 = solve(prob2, Tsit5(), saveat = dt);"
   ]
  },
  {
   "cell_type": "markdown",
   "id": "51eb8178",
   "metadata": {},
   "source": [
    "## Train model using benchmarking"
   ]
  },
  {
   "cell_type": "markdown",
   "id": "7bb01eb5",
   "metadata": {},
   "source": [
    "Now, we train the model on varying numbers of individuals, time-dependent variables and baseline variables. We save all benchmark results, i.e., runtime, memory, and allocations, in a specific `SharedArray`, an array that allows for being used simultaneous by different processes while preventing them from getting in the way of each other. "
   ]
  },
  {
   "cell_type": "markdown",
   "id": "29518a41",
   "metadata": {},
   "source": [
    "### Setup"
   ]
  },
  {
   "cell_type": "code",
   "execution_count": 11,
   "id": "b899fe36",
   "metadata": {},
   "outputs": [],
   "source": [
    "# define number of observations, variables and baseline variables to try \n",
    "@everywhere n_obs = [50, 100, 250, 500, 1000, 2000, 5000]\n",
    "@everywhere n_vars = [10, 20, 50, 100, 200]\n",
    "@everywhere n_baselinevars = [10, 20, 50, 100, 200]\n",
    "@everywhere lenobs, lenvars, lenbvars = length(n_obs), length(n_vars), length(n_baselinevars)\n",
    "\n",
    "# construct dataframe: n, p, q, time, memory, allocations\n",
    "benchmarkdf = DataFrame(n_obs = cat(n_obs, fill(100, lenvars + lenbvars), dims=1),\n",
    "        n_vars = cat(fill(10, lenobs), n_vars, fill(10, lenbvars), dims=1),\n",
    "        n_baselinevars = cat(fill(50, lenobs + lenvars), n_baselinevars, dims=1),\n",
    "        time = fill(0.0, lenobs+lenvars+lenbvars),\n",
    "        gctime = fill(0.0, lenobs+lenvars+lenbvars),\n",
    "        memory = fill(0, lenobs+lenvars+lenbvars),\n",
    "        allocs = fill(0, lenobs+lenvars+lenbvars)\n",
    ")\n",
    "\n",
    "# get it to a shared array for distributed computing\n",
    "benchmarkarray = SharedArrays.SharedMatrix{Float64}(size(Matrix(benchmarkdf)));\n",
    "benchmarkarray[:,1:3] = Matrix(benchmarkdf)[:,1:3];\n",
    "\n",
    "@everywhere eval($benchmarkarray);"
   ]
  },
  {
   "cell_type": "markdown",
   "id": "49c6fb13",
   "metadata": {},
   "source": [
    "### Scenario 1: Fixed number of time-dep and baseline variables, varying number of observations "
   ]
  },
  {
   "cell_type": "code",
   "execution_count": 8,
   "id": "b8032912",
   "metadata": {},
   "outputs": [
    {
     "name": "stdout",
     "output_type": "stream",
     "text": [
      "      From worker 3:\twarmup done\n",
      "      From worker 3:\tn=250, p=10, q=50\n",
      "      From worker 2:\twarmup done\n",
      "      From worker 2:\tn=50, p=10, q=50\n",
      "      From worker 4:\twarmup done\n",
      "      From worker 4:\tn=1000, p=10, q=50\n",
      "      From worker 6:\twarmup done\n",
      "      From worker 6:\tn=5000, p=10, q=50\n",
      "      From worker 5:\twarmup done\n",
      "      From worker 5:\tn=2000, p=10, q=50\n",
      "      From worker 2:\ttraining done\n",
      "      From worker 2:\twarmup done\n",
      "      From worker 2:\tn=100, p=10, q=50\n",
      "      From worker 2:\ttraining done\n",
      "      From worker 3:\ttraining done\n",
      "      From worker 3:\twarmup done\n",
      "      From worker 3:\tn=500, p=10, q=50\n",
      "      From worker 3:\ttraining done\n",
      "      From worker 4:\ttraining done\n",
      "      From worker 5:\ttraining done\n",
      "      From worker 6:\ttraining done\n"
     ]
    },
    {
     "data": {
      "text/plain": [
       "Task (done) @0x000000014dc45ee0"
      ]
     },
     "execution_count": 8,
     "metadata": {},
     "output_type": "execute_result"
    }
   ],
   "source": [
    "@sync @distributed for n_ind in 1:lenobs\n",
    "    # warmup (first run takes longer because of precompilation times and shouldnt be included)\n",
    "    n_warmup, p_warmup, q_warmup, q_info_warmup = 100, 10, 10, 10\n",
    "    xs, x_baseline, tvals, group1, group2 = generate_all(n_warmup, p_warmup, q_warmup, q_info_warmup);\n",
    "    trainingdata = zip(xs, x_baseline, tvals);\n",
    "    zdim = nODEparams = 2\n",
    "    m = init_vae(p_warmup, q_warmup, zdim, nODEparams, prob1)\n",
    "    L = loss_wrapper(m)\n",
    "    ps = getparams(m)\n",
    "    opt = ADAM(0.0005)\n",
    "    for epoch in 1:35\n",
    "        Flux.train!(L, ps, trainingdata, opt)\n",
    "    end\n",
    "    println(\"warmup done\")\n",
    "    # now start for real\n",
    "    n, p, q = n_obs[n_ind], 10, 50 \n",
    "    println(\"n=$n, p=$p, q=$q\")\n",
    "    q_info = Int(q/5)\n",
    "    xs, x_baseline, tvals, group1, group2 = generate_all(n, p, q, q_info);\n",
    "    trainingdata = zip(xs, x_baseline, tvals);\n",
    "    zdim = nODEparams = 2\n",
    "    m = init_vae(p, q, zdim, nODEparams, prob1)\n",
    "    b = @benchmark run_benchmark($trainingdata, $m) samples=1 evals=1\n",
    "    println(\"training done\")\n",
    "    row = n_ind\n",
    "    benchmarkarray[row,4] = b.times[1] # times\n",
    "    benchmarkarray[row,5] = b.gctimes[1] # gctimes \n",
    "    benchmarkarray[row,6] = b.memory # memory \n",
    "    benchmarkarray[row,7] = b.allocs # allocations\n",
    "end"
   ]
  },
  {
   "cell_type": "markdown",
   "id": "1751fcf3",
   "metadata": {},
   "source": [
    "### Scenario 2: Fixed number of observations and baseline variables, varying number of time-dependent variables"
   ]
  },
  {
   "cell_type": "code",
   "execution_count": 9,
   "id": "7680a93b",
   "metadata": {},
   "outputs": [
    {
     "name": "stdout",
     "output_type": "stream",
     "text": [
      "      From worker 4:\tn=100, p=50, q=50\n",
      "      From worker 3:\tn=100, p=20, q=50\n",
      "      From worker 2:\tn=100, p=10, q=50\n",
      "      From worker 6:\tn=100, p=200, q=50\n",
      "      From worker 5:\tn=100, p=100, q=50\n",
      "      From worker 2:\ttraining done\n",
      "      From worker 3:\ttraining done\n",
      "      From worker 4:\ttraining done\n",
      "      From worker 5:\ttraining done\n",
      "      From worker 6:\ttraining done\n"
     ]
    },
    {
     "data": {
      "text/plain": [
       "Task (done) @0x0000000164834ab0"
      ]
     },
     "execution_count": 9,
     "metadata": {},
     "output_type": "execute_result"
    }
   ],
   "source": [
    "@sync @distributed for p_ind in 1:lenvars\n",
    "    n, p, q = 100, n_vars[p_ind], 50 \n",
    "    println(\"n=$n, p=$p, q=$q\")\n",
    "    q_info = Int(q/5)\n",
    "    xs, x_baseline, tvals, group1, group2 = generate_all(n, p, q, q_info);\n",
    "    trainingdata = zip(xs, x_baseline, tvals);\n",
    "    zdim = nODEparams = 2\n",
    "    m = init_vae(p, q, zdim, nODEparams, prob1)\n",
    "    b = @benchmark run_benchmark($trainingdata, $m) samples=1 evals=1\n",
    "    println(\"training done\")\n",
    "    row = lenobs + p_ind\n",
    "    benchmarkarray[row,4] = b.times[1] # times\n",
    "    benchmarkarray[row,5] = b.gctimes[1] # gctimes \n",
    "    benchmarkarray[row,6] = b.memory # memory \n",
    "    benchmarkarray[row,7] = b.allocs # allocations\n",
    "end"
   ]
  },
  {
   "cell_type": "markdown",
   "id": "692fe0f0",
   "metadata": {},
   "source": [
    "### Scenario 3: Fixed number of observations and time-dependent variables, varying number of baseline variables"
   ]
  },
  {
   "cell_type": "code",
   "execution_count": 10,
   "id": "808b0839",
   "metadata": {},
   "outputs": [
    {
     "name": "stdout",
     "output_type": "stream",
     "text": [
      "      From worker 3:\tn=100, p=10, q=20\n",
      "      From worker 4:\tn=100, p=10, q=50\n",
      "      From worker 2:\tn=100, p=10, q=10\n",
      "      From worker 5:\tn=100, p=10, q=100\n",
      "      From worker 6:\tn=100, p=10, q=200\n",
      "      From worker 2:\ttraining done\n",
      "      From worker 3:\ttraining done\n",
      "      From worker 4:\ttraining done\n",
      "      From worker 5:\ttraining done\n",
      "      From worker 6:\ttraining done\n"
     ]
    },
    {
     "data": {
      "text/plain": [
       "Task (done) @0x0000000164836540"
      ]
     },
     "execution_count": 10,
     "metadata": {},
     "output_type": "execute_result"
    }
   ],
   "source": [
    "@sync @distributed for q_ind in 1:lenbvars\n",
    "    n, p, q = 100, 10, n_baselinevars[q_ind]\n",
    "    println(\"n=$n, p=$p, q=$q\")\n",
    "    q_info = Int(q/5)\n",
    "    xs, x_baseline, tvals, group1, group2 = generate_all(n, p, q, q_info);\n",
    "    trainingdata = zip(xs, x_baseline, tvals);\n",
    "    zdim = nODEparams = 2\n",
    "    m = init_vae(p, q, zdim, nODEparams, prob1)\n",
    "    b = @benchmark run_benchmark($trainingdata, $m) samples=1 evals=1\n",
    "    println(\"training done\")\n",
    "    row = lenobs + lenvars + q_ind\n",
    "    benchmarkarray[row,4] = b.times[1] # times\n",
    "    benchmarkarray[row,5] = b.gctimes[1] # gctimes \n",
    "    benchmarkarray[row,6] = b.memory # memory \n",
    "    benchmarkarray[row,7] = b.allocs # allocations\n",
    "end"
   ]
  },
  {
   "cell_type": "markdown",
   "id": "7b53220a",
   "metadata": {},
   "source": [
    "## Save results "
   ]
  },
  {
   "cell_type": "markdown",
   "id": "9e175a03",
   "metadata": {},
   "source": [
    "First, we can optionally save the Julia object as `JLD2` file:"
   ]
  },
  {
   "cell_type": "code",
   "execution_count": 13,
   "id": "0316f219",
   "metadata": {},
   "outputs": [
    {
     "data": {
      "text/plain": [
       "17×7 SharedMatrix{Float64}:\n",
       "   50.0   10.0   50.0  6.23103e9   2.12793e8   1.69195e9   1.74255e7\n",
       "  100.0   10.0   50.0  1.35203e10  4.8314e8    3.38413e9   3.48681e7\n",
       "  250.0   10.0   50.0  3.02995e10  1.16346e9   8.46084e9   8.72037e7\n",
       "  500.0   10.0   50.0  5.19168e10  2.06915e9   1.6927e10   1.74473e8\n",
       " 1000.0   10.0   50.0  9.91186e10  4.13274e9   3.38457e10  3.48972e8\n",
       " 2000.0   10.0   50.0  1.69727e11  7.6441e9    6.76913e10  6.97943e8\n",
       " 5000.0   10.0   50.0  4.1173e11   2.01611e10  1.69239e11  1.74553e9\n",
       "  100.0   10.0   50.0  1.47972e10  4.79092e8   3.38414e9   3.48681e7\n",
       "  100.0   20.0   50.0  1.60899e10  5.41337e8   3.92201e9   4.46942e7\n",
       "  100.0   50.0   50.0  2.03554e10  7.62936e8   5.93587e9   7.40913e7\n",
       "  100.0  100.0   50.0  2.83108e10  2.19809e9   1.06392e10  1.23093e8\n",
       "  100.0  200.0   50.0  5.67905e10  1.10356e10  2.50541e10  2.21111e8\n",
       "  100.0   10.0   10.0  1.43175e10  5.28021e8   3.30699e9   3.4867e7\n",
       "  100.0   10.0   20.0  1.424e10    5.35328e8   3.31774e9   3.486e7\n",
       "  100.0   10.0   50.0  1.43866e10  5.50946e8   3.38413e9   3.48681e7\n",
       "  100.0   10.0  100.0  1.44591e10  5.63253e8   3.60635e9   3.48633e7\n",
       "  100.0   10.0  200.0  1.48595e10  8.35247e8   4.47493e9   3.49154e7"
      ]
     },
     "execution_count": 13,
     "metadata": {},
     "output_type": "execute_result"
    }
   ],
   "source": [
    "# if desired: save as JLD2 file \n",
    "using JLD2 \n",
    "JLD2.@save \"../benchmarkresults.jld2\" benchmarkarray\n",
    "# and re-load from saved\n",
    "JLD2.@load \"../benchmarkresults.jld2\" \n",
    "benchmarkarray = eval(:benchmarkarray)"
   ]
  },
  {
   "cell_type": "markdown",
   "id": "257bedcb",
   "metadata": {},
   "source": [
    "Now, we copy back the information from the `SharedArray` object to the benchmark dataframe, to export that to CSV format."
   ]
  },
  {
   "cell_type": "code",
   "execution_count": 14,
   "id": "75bd42c0",
   "metadata": {},
   "outputs": [
    {
     "data": {
      "text/html": [
       "<div class=\"data-frame\"><p>17 rows × 7 columns</p><table class=\"data-frame\"><thead><tr><th></th><th>n_obs</th><th>n_vars</th><th>n_baselinevars</th><th>time</th><th>gctime</th><th>memory</th><th>allocs</th></tr><tr><th></th><th title=\"Int64\">Int64</th><th title=\"Int64\">Int64</th><th title=\"Int64\">Int64</th><th title=\"Float64\">Float64</th><th title=\"Float64\">Float64</th><th title=\"Int64\">Int64</th><th title=\"Int64\">Int64</th></tr></thead><tbody><tr><th>1</th><td>50</td><td>10</td><td>50</td><td>6.23103e9</td><td>2.12793e8</td><td>1691949568</td><td>17425528</td></tr><tr><th>2</th><td>100</td><td>10</td><td>50</td><td>1.35203e10</td><td>4.8314e8</td><td>3384134912</td><td>34868112</td></tr><tr><th>3</th><td>250</td><td>10</td><td>50</td><td>3.02995e10</td><td>1.16346e9</td><td>8460841120</td><td>87203666</td></tr><tr><th>4</th><td>500</td><td>10</td><td>50</td><td>5.19168e10</td><td>2.06915e9</td><td>16927000176</td><td>174473248</td></tr><tr><th>5</th><td>1000</td><td>10</td><td>50</td><td>9.91186e10</td><td>4.13274e9</td><td>33845661856</td><td>348971551</td></tr><tr><th>6</th><td>2000</td><td>10</td><td>50</td><td>1.69727e11</td><td>7.6441e9</td><td>67691281696</td><td>697942793</td></tr><tr><th>7</th><td>5000</td><td>10</td><td>50</td><td>4.1173e11</td><td>2.01611e10</td><td>169238884896</td><td>1745528013</td></tr><tr><th>8</th><td>100</td><td>10</td><td>50</td><td>1.47972e10</td><td>4.79092e8</td><td>3384143088</td><td>34868119</td></tr><tr><th>9</th><td>100</td><td>20</td><td>50</td><td>1.60899e10</td><td>5.41337e8</td><td>3922006848</td><td>44694194</td></tr><tr><th>10</th><td>100</td><td>50</td><td>50</td><td>2.03554e10</td><td>7.62936e8</td><td>5935871680</td><td>74091324</td></tr><tr><th>11</th><td>100</td><td>100</td><td>50</td><td>2.83108e10</td><td>2.19809e9</td><td>10639184064</td><td>123092886</td></tr><tr><th>12</th><td>100</td><td>200</td><td>50</td><td>5.67905e10</td><td>1.10356e10</td><td>25054094496</td><td>221110746</td></tr><tr><th>13</th><td>100</td><td>10</td><td>10</td><td>1.43175e10</td><td>5.28021e8</td><td>3306985280</td><td>34867032</td></tr><tr><th>14</th><td>100</td><td>10</td><td>20</td><td>1.424e10</td><td>5.35328e8</td><td>3317739808</td><td>34860012</td></tr><tr><th>15</th><td>100</td><td>10</td><td>50</td><td>1.43866e10</td><td>5.50946e8</td><td>3384134912</td><td>34868112</td></tr><tr><th>16</th><td>100</td><td>10</td><td>100</td><td>1.44591e10</td><td>5.63253e8</td><td>3606347840</td><td>34863312</td></tr><tr><th>17</th><td>100</td><td>10</td><td>200</td><td>1.48595e10</td><td>8.35247e8</td><td>4474927680</td><td>34915438</td></tr></tbody></table></div>"
      ],
      "text/latex": [
       "\\begin{tabular}{r|ccccccc}\n",
       "\t& n\\_obs & n\\_vars & n\\_baselinevars & time & gctime & memory & allocs\\\\\n",
       "\t\\hline\n",
       "\t& Int64 & Int64 & Int64 & Float64 & Float64 & Int64 & Int64\\\\\n",
       "\t\\hline\n",
       "\t1 & 50 & 10 & 50 & 6.23103e9 & 2.12793e8 & 1691949568 & 17425528 \\\\\n",
       "\t2 & 100 & 10 & 50 & 1.35203e10 & 4.8314e8 & 3384134912 & 34868112 \\\\\n",
       "\t3 & 250 & 10 & 50 & 3.02995e10 & 1.16346e9 & 8460841120 & 87203666 \\\\\n",
       "\t4 & 500 & 10 & 50 & 5.19168e10 & 2.06915e9 & 16927000176 & 174473248 \\\\\n",
       "\t5 & 1000 & 10 & 50 & 9.91186e10 & 4.13274e9 & 33845661856 & 348971551 \\\\\n",
       "\t6 & 2000 & 10 & 50 & 1.69727e11 & 7.6441e9 & 67691281696 & 697942793 \\\\\n",
       "\t7 & 5000 & 10 & 50 & 4.1173e11 & 2.01611e10 & 169238884896 & 1745528013 \\\\\n",
       "\t8 & 100 & 10 & 50 & 1.47972e10 & 4.79092e8 & 3384143088 & 34868119 \\\\\n",
       "\t9 & 100 & 20 & 50 & 1.60899e10 & 5.41337e8 & 3922006848 & 44694194 \\\\\n",
       "\t10 & 100 & 50 & 50 & 2.03554e10 & 7.62936e8 & 5935871680 & 74091324 \\\\\n",
       "\t11 & 100 & 100 & 50 & 2.83108e10 & 2.19809e9 & 10639184064 & 123092886 \\\\\n",
       "\t12 & 100 & 200 & 50 & 5.67905e10 & 1.10356e10 & 25054094496 & 221110746 \\\\\n",
       "\t13 & 100 & 10 & 10 & 1.43175e10 & 5.28021e8 & 3306985280 & 34867032 \\\\\n",
       "\t14 & 100 & 10 & 20 & 1.424e10 & 5.35328e8 & 3317739808 & 34860012 \\\\\n",
       "\t15 & 100 & 10 & 50 & 1.43866e10 & 5.50946e8 & 3384134912 & 34868112 \\\\\n",
       "\t16 & 100 & 10 & 100 & 1.44591e10 & 5.63253e8 & 3606347840 & 34863312 \\\\\n",
       "\t17 & 100 & 10 & 200 & 1.48595e10 & 8.35247e8 & 4474927680 & 34915438 \\\\\n",
       "\\end{tabular}\n"
      ],
      "text/plain": [
       "\u001b[1m17×7 DataFrame\u001b[0m\n",
       "\u001b[1m Row \u001b[0m│\u001b[1m n_obs \u001b[0m\u001b[1m n_vars \u001b[0m\u001b[1m n_baselinevars \u001b[0m\u001b[1m time       \u001b[0m\u001b[1m gctime     \u001b[0m\u001b[1m memory       \u001b[0m\u001b[1m al\u001b[0m ⋯\n",
       "\u001b[1m     \u001b[0m│\u001b[90m Int64 \u001b[0m\u001b[90m Int64  \u001b[0m\u001b[90m Int64          \u001b[0m\u001b[90m Float64    \u001b[0m\u001b[90m Float64    \u001b[0m\u001b[90m Int64        \u001b[0m\u001b[90m In\u001b[0m ⋯\n",
       "─────┼──────────────────────────────────────────────────────────────────────────\n",
       "   1 │    50      10              50  6.23103e9   2.12793e8     1691949568     ⋯\n",
       "   2 │   100      10              50  1.35203e10  4.8314e8      3384134912\n",
       "   3 │   250      10              50  3.02995e10  1.16346e9     8460841120\n",
       "   4 │   500      10              50  5.19168e10  2.06915e9    16927000176   1\n",
       "   5 │  1000      10              50  9.91186e10  4.13274e9    33845661856   3 ⋯\n",
       "   6 │  2000      10              50  1.69727e11  7.6441e9     67691281696   6\n",
       "   7 │  5000      10              50  4.1173e11   2.01611e10  169238884896  17\n",
       "   8 │   100      10              50  1.47972e10  4.79092e8     3384143088\n",
       "   9 │   100      20              50  1.60899e10  5.41337e8     3922006848     ⋯\n",
       "  10 │   100      50              50  2.03554e10  7.62936e8     5935871680\n",
       "  11 │   100     100              50  2.83108e10  2.19809e9    10639184064   1\n",
       "  12 │   100     200              50  5.67905e10  1.10356e10   25054094496   2\n",
       "  13 │   100      10              10  1.43175e10  5.28021e8     3306985280     ⋯\n",
       "  14 │   100      10              20  1.424e10    5.35328e8     3317739808\n",
       "  15 │   100      10              50  1.43866e10  5.50946e8     3384134912\n",
       "  16 │   100      10             100  1.44591e10  5.63253e8     3606347840\n",
       "  17 │   100      10             200  1.48595e10  8.35247e8     4474927680     ⋯\n",
       "\u001b[36m                                                                1 column omitted\u001b[0m"
      ]
     },
     "execution_count": 14,
     "metadata": {},
     "output_type": "execute_result"
    }
   ],
   "source": [
    "# copy back to dataframe, to be saved later as CSV\n",
    "benchmarkdf[:,:time] = benchmarkarray[:,4]\n",
    "benchmarkdf[:,:gctime] = benchmarkarray[:,5]\n",
    "benchmarkdf[:,:memory] = benchmarkarray[:,6]\n",
    "benchmarkdf[:,:allocs] = benchmarkarray[:,7]\n",
    "benchmarkdf"
   ]
  },
  {
   "cell_type": "markdown",
   "id": "44736c24",
   "metadata": {},
   "source": [
    "Additionally, we turn the time and memory information into human-readable format and units: "
   ]
  },
  {
   "cell_type": "code",
   "execution_count": 15,
   "id": "3df5c3c3",
   "metadata": {},
   "outputs": [
    {
     "data": {
      "text/html": [
       "<div class=\"data-frame\"><p>17 rows × 9 columns (omitted printing of 2 columns)</p><table class=\"data-frame\"><thead><tr><th></th><th>n_obs</th><th>n_vars</th><th>n_baselinevars</th><th>time</th><th>gctime</th><th>memory</th><th>allocs</th></tr><tr><th></th><th title=\"Int64\">Int64</th><th title=\"Int64\">Int64</th><th title=\"Int64\">Int64</th><th title=\"Float64\">Float64</th><th title=\"Float64\">Float64</th><th title=\"Int64\">Int64</th><th title=\"Int64\">Int64</th></tr></thead><tbody><tr><th>1</th><td>50</td><td>10</td><td>50</td><td>6.23103e9</td><td>2.12793e8</td><td>1691949568</td><td>17425528</td></tr><tr><th>2</th><td>100</td><td>10</td><td>50</td><td>1.35203e10</td><td>4.8314e8</td><td>3384134912</td><td>34868112</td></tr><tr><th>3</th><td>250</td><td>10</td><td>50</td><td>3.02995e10</td><td>1.16346e9</td><td>8460841120</td><td>87203666</td></tr><tr><th>4</th><td>500</td><td>10</td><td>50</td><td>5.19168e10</td><td>2.06915e9</td><td>16927000176</td><td>174473248</td></tr><tr><th>5</th><td>1000</td><td>10</td><td>50</td><td>9.91186e10</td><td>4.13274e9</td><td>33845661856</td><td>348971551</td></tr><tr><th>6</th><td>2000</td><td>10</td><td>50</td><td>1.69727e11</td><td>7.6441e9</td><td>67691281696</td><td>697942793</td></tr><tr><th>7</th><td>5000</td><td>10</td><td>50</td><td>4.1173e11</td><td>2.01611e10</td><td>169238884896</td><td>1745528013</td></tr><tr><th>8</th><td>100</td><td>10</td><td>50</td><td>1.47972e10</td><td>4.79092e8</td><td>3384143088</td><td>34868119</td></tr><tr><th>9</th><td>100</td><td>20</td><td>50</td><td>1.60899e10</td><td>5.41337e8</td><td>3922006848</td><td>44694194</td></tr><tr><th>10</th><td>100</td><td>50</td><td>50</td><td>2.03554e10</td><td>7.62936e8</td><td>5935871680</td><td>74091324</td></tr><tr><th>11</th><td>100</td><td>100</td><td>50</td><td>2.83108e10</td><td>2.19809e9</td><td>10639184064</td><td>123092886</td></tr><tr><th>12</th><td>100</td><td>200</td><td>50</td><td>5.67905e10</td><td>1.10356e10</td><td>25054094496</td><td>221110746</td></tr><tr><th>13</th><td>100</td><td>10</td><td>10</td><td>1.43175e10</td><td>5.28021e8</td><td>3306985280</td><td>34867032</td></tr><tr><th>14</th><td>100</td><td>10</td><td>20</td><td>1.424e10</td><td>5.35328e8</td><td>3317739808</td><td>34860012</td></tr><tr><th>15</th><td>100</td><td>10</td><td>50</td><td>1.43866e10</td><td>5.50946e8</td><td>3384134912</td><td>34868112</td></tr><tr><th>16</th><td>100</td><td>10</td><td>100</td><td>1.44591e10</td><td>5.63253e8</td><td>3606347840</td><td>34863312</td></tr><tr><th>17</th><td>100</td><td>10</td><td>200</td><td>1.48595e10</td><td>8.35247e8</td><td>4474927680</td><td>34915438</td></tr></tbody></table></div>"
      ],
      "text/latex": [
       "\\begin{tabular}{r|cccccccc}\n",
       "\t& n\\_obs & n\\_vars & n\\_baselinevars & time & gctime & memory & allocs & \\\\\n",
       "\t\\hline\n",
       "\t& Int64 & Int64 & Int64 & Float64 & Float64 & Int64 & Int64 & \\\\\n",
       "\t\\hline\n",
       "\t1 & 50 & 10 & 50 & 6.23103e9 & 2.12793e8 & 1691949568 & 17425528 & $\\dots$ \\\\\n",
       "\t2 & 100 & 10 & 50 & 1.35203e10 & 4.8314e8 & 3384134912 & 34868112 & $\\dots$ \\\\\n",
       "\t3 & 250 & 10 & 50 & 3.02995e10 & 1.16346e9 & 8460841120 & 87203666 & $\\dots$ \\\\\n",
       "\t4 & 500 & 10 & 50 & 5.19168e10 & 2.06915e9 & 16927000176 & 174473248 & $\\dots$ \\\\\n",
       "\t5 & 1000 & 10 & 50 & 9.91186e10 & 4.13274e9 & 33845661856 & 348971551 & $\\dots$ \\\\\n",
       "\t6 & 2000 & 10 & 50 & 1.69727e11 & 7.6441e9 & 67691281696 & 697942793 & $\\dots$ \\\\\n",
       "\t7 & 5000 & 10 & 50 & 4.1173e11 & 2.01611e10 & 169238884896 & 1745528013 & $\\dots$ \\\\\n",
       "\t8 & 100 & 10 & 50 & 1.47972e10 & 4.79092e8 & 3384143088 & 34868119 & $\\dots$ \\\\\n",
       "\t9 & 100 & 20 & 50 & 1.60899e10 & 5.41337e8 & 3922006848 & 44694194 & $\\dots$ \\\\\n",
       "\t10 & 100 & 50 & 50 & 2.03554e10 & 7.62936e8 & 5935871680 & 74091324 & $\\dots$ \\\\\n",
       "\t11 & 100 & 100 & 50 & 2.83108e10 & 2.19809e9 & 10639184064 & 123092886 & $\\dots$ \\\\\n",
       "\t12 & 100 & 200 & 50 & 5.67905e10 & 1.10356e10 & 25054094496 & 221110746 & $\\dots$ \\\\\n",
       "\t13 & 100 & 10 & 10 & 1.43175e10 & 5.28021e8 & 3306985280 & 34867032 & $\\dots$ \\\\\n",
       "\t14 & 100 & 10 & 20 & 1.424e10 & 5.35328e8 & 3317739808 & 34860012 & $\\dots$ \\\\\n",
       "\t15 & 100 & 10 & 50 & 1.43866e10 & 5.50946e8 & 3384134912 & 34868112 & $\\dots$ \\\\\n",
       "\t16 & 100 & 10 & 100 & 1.44591e10 & 5.63253e8 & 3606347840 & 34863312 & $\\dots$ \\\\\n",
       "\t17 & 100 & 10 & 200 & 1.48595e10 & 8.35247e8 & 4474927680 & 34915438 & $\\dots$ \\\\\n",
       "\\end{tabular}\n"
      ],
      "text/plain": [
       "\u001b[1m17×9 DataFrame\u001b[0m\n",
       "\u001b[1m Row \u001b[0m│\u001b[1m n_obs \u001b[0m\u001b[1m n_vars \u001b[0m\u001b[1m n_baselinevars \u001b[0m\u001b[1m time       \u001b[0m\u001b[1m gctime     \u001b[0m\u001b[1m memory       \u001b[0m\u001b[1m al\u001b[0m ⋯\n",
       "\u001b[1m     \u001b[0m│\u001b[90m Int64 \u001b[0m\u001b[90m Int64  \u001b[0m\u001b[90m Int64          \u001b[0m\u001b[90m Float64    \u001b[0m\u001b[90m Float64    \u001b[0m\u001b[90m Int64        \u001b[0m\u001b[90m In\u001b[0m ⋯\n",
       "─────┼──────────────────────────────────────────────────────────────────────────\n",
       "   1 │    50      10              50  6.23103e9   2.12793e8     1691949568     ⋯\n",
       "   2 │   100      10              50  1.35203e10  4.8314e8      3384134912\n",
       "   3 │   250      10              50  3.02995e10  1.16346e9     8460841120\n",
       "   4 │   500      10              50  5.19168e10  2.06915e9    16927000176   1\n",
       "   5 │  1000      10              50  9.91186e10  4.13274e9    33845661856   3 ⋯\n",
       "   6 │  2000      10              50  1.69727e11  7.6441e9     67691281696   6\n",
       "   7 │  5000      10              50  4.1173e11   2.01611e10  169238884896  17\n",
       "   8 │   100      10              50  1.47972e10  4.79092e8     3384143088\n",
       "   9 │   100      20              50  1.60899e10  5.41337e8     3922006848     ⋯\n",
       "  10 │   100      50              50  2.03554e10  7.62936e8     5935871680\n",
       "  11 │   100     100              50  2.83108e10  2.19809e9    10639184064   1\n",
       "  12 │   100     200              50  5.67905e10  1.10356e10   25054094496   2\n",
       "  13 │   100      10              10  1.43175e10  5.28021e8     3306985280     ⋯\n",
       "  14 │   100      10              20  1.424e10    5.35328e8     3317739808\n",
       "  15 │   100      10              50  1.43866e10  5.50946e8     3384134912\n",
       "  16 │   100      10             100  1.44591e10  5.63253e8     3606347840\n",
       "  17 │   100      10             200  1.48595e10  8.35247e8     4474927680     ⋯\n",
       "\u001b[36m                                                               3 columns omitted\u001b[0m"
      ]
     },
     "execution_count": 15,
     "metadata": {},
     "output_type": "execute_result"
    }
   ],
   "source": [
    "benchmarkdf[:,:time_in_seconds] = round.(benchmarkarray[:,4] .* 1e-9, digits=3)\n",
    "\n",
    "# turn memory into human-readable format (taken from BenchmarkTools.jl source code)\n",
    "benchmarkdf[:,:prettymemory] = prettymemory.(benchmarkarray[:,6])\n",
    "benchmarkdf"
   ]
  },
  {
   "cell_type": "markdown",
   "id": "ff2fa5a4",
   "metadata": {},
   "source": [
    "Finally, we can export to CSV; re-creating Tables 1-3 from the manuscript."
   ]
  },
  {
   "cell_type": "code",
   "execution_count": 16,
   "id": "fa7e761a",
   "metadata": {},
   "outputs": [
    {
     "name": "stdout",
     "output_type": "stream",
     "text": [
      "benchmark_obs = 7×3 DataFrame\n",
      " Row │ n_obs  time_in_seconds  prettymemory\n",
      "     │ Int64  Float64          String\n",
      "─────┼──────────────────────────────────────\n",
      "   1 │    50            6.231  1.58 GiB\n",
      "   2 │   100           13.52   3.15 GiB\n",
      "   3 │   250           30.3    7.88 GiB\n",
      "   4 │   500           51.917  15.76 GiB\n",
      "   5 │  1000           99.119  31.52 GiB\n",
      "   6 │  2000          169.727  63.04 GiB\n",
      "   7 │  5000          411.73   157.62 GiB\n",
      "benchmark_obs = 7×3 DataFrame\n",
      " Row │ n_obs  time_in_seconds  prettymemory\n",
      "     │ Int64  Float64          String\n",
      "─────┼──────────────────────────────────────\n",
      "   1 │    50            6.231  1.58 GiB\n",
      "   2 │   100           13.52   3.15 GiB\n",
      "   3 │   250           30.3    7.88 GiB\n",
      "   4 │   500           51.917  15.76 GiB\n",
      "   5 │  1000           99.119  31.52 GiB\n",
      "   6 │  2000          169.727  63.04 GiB\n",
      "   7 │  5000          411.73   157.62 GiB\n",
      "benchmark_bvars = 5×3 DataFrame\n",
      " Row │ n_baselinevars  time_in_seconds  prettymemory\n",
      "     │ Int64           Float64          String\n",
      "─────┼───────────────────────────────────────────────\n",
      "   1 │             10           14.317  3.08 GiB\n",
      "   2 │             20           14.24   3.09 GiB\n",
      "   3 │             50           14.387  3.15 GiB\n",
      "   4 │            100           14.459  3.36 GiB\n",
      "   5 │            200           14.859  4.17 GiB\n"
     ]
    },
    {
     "data": {
      "text/html": [
       "<div class=\"data-frame\"><p>5 rows × 3 columns</p><table class=\"data-frame\"><thead><tr><th></th><th>n_baselinevars</th><th>time_in_seconds</th><th>prettymemory</th></tr><tr><th></th><th title=\"Int64\">Int64</th><th title=\"Float64\">Float64</th><th title=\"String\">String</th></tr></thead><tbody><tr><th>1</th><td>10</td><td>14.317</td><td>3.08 GiB</td></tr><tr><th>2</th><td>20</td><td>14.24</td><td>3.09 GiB</td></tr><tr><th>3</th><td>50</td><td>14.387</td><td>3.15 GiB</td></tr><tr><th>4</th><td>100</td><td>14.459</td><td>3.36 GiB</td></tr><tr><th>5</th><td>200</td><td>14.859</td><td>4.17 GiB</td></tr></tbody></table></div>"
      ],
      "text/latex": [
       "\\begin{tabular}{r|ccc}\n",
       "\t& n\\_baselinevars & time\\_in\\_seconds & prettymemory\\\\\n",
       "\t\\hline\n",
       "\t& Int64 & Float64 & String\\\\\n",
       "\t\\hline\n",
       "\t1 & 10 & 14.317 & 3.08 GiB \\\\\n",
       "\t2 & 20 & 14.24 & 3.09 GiB \\\\\n",
       "\t3 & 50 & 14.387 & 3.15 GiB \\\\\n",
       "\t4 & 100 & 14.459 & 3.36 GiB \\\\\n",
       "\t5 & 200 & 14.859 & 4.17 GiB \\\\\n",
       "\\end{tabular}\n"
      ],
      "text/plain": [
       "\u001b[1m5×3 DataFrame\u001b[0m\n",
       "\u001b[1m Row \u001b[0m│\u001b[1m n_baselinevars \u001b[0m\u001b[1m time_in_seconds \u001b[0m\u001b[1m prettymemory \u001b[0m\n",
       "\u001b[1m     \u001b[0m│\u001b[90m Int64          \u001b[0m\u001b[90m Float64         \u001b[0m\u001b[90m String       \u001b[0m\n",
       "─────┼───────────────────────────────────────────────\n",
       "   1 │             10           14.317  3.08 GiB\n",
       "   2 │             20           14.24   3.09 GiB\n",
       "   3 │             50           14.387  3.15 GiB\n",
       "   4 │            100           14.459  3.36 GiB\n",
       "   5 │            200           14.859  4.17 GiB"
      ]
     },
     "execution_count": 16,
     "metadata": {},
     "output_type": "execute_result"
    }
   ],
   "source": [
    "# save entire dataframe as CSV\n",
    "using CSV \n",
    "CSV.write(\"benchmarkresults.csv\", benchmarkdf)\n",
    "\n",
    "# extract tables as in manuscript appendix and save as CSV files\n",
    "\n",
    "# different number of observations for fixed p (10) and q (50)\n",
    "benchmark_obs = benchmarkdf[1:7, [:n_obs, :time_in_seconds, :prettymemory]]\n",
    "@show(benchmark_obs)\n",
    "\n",
    "benchmark_vars = benchmarkdf[8:12, [:n_vars, :time_in_seconds, :prettymemory]]\n",
    "@show(benchmark_obs)\n",
    "\n",
    "benchmark_bvars = benchmarkdf[13:end, [:n_baselinevars, :time_in_seconds, :prettymemory]];\n",
    "@show(benchmark_bvars)"
   ]
  },
  {
   "cell_type": "markdown",
   "id": "0a565411",
   "metadata": {},
   "source": [
    "We can now save the dataframes individualls as `.csv` files. "
   ]
  },
  {
   "cell_type": "code",
   "execution_count": 16,
   "id": "9093b1fa",
   "metadata": {},
   "outputs": [
    {
     "data": {
      "text/plain": [
       "\"benchmarkresults_vars.csv\""
      ]
     },
     "execution_count": 16,
     "metadata": {},
     "output_type": "execute_result"
    }
   ],
   "source": [
    "CSV.write(\"../benchmarkresults_baselinevars.csv\", benchmark_bvars)\n",
    "CSV.write(\"../benchmarkresults_obs.csv\", benchmark_obs)\n",
    "CSV.write(\"../benchmarkresults_vars.csv\", benchmark_vars)"
   ]
  },
  {
   "cell_type": "code",
   "execution_count": null,
   "id": "bfb23f15",
   "metadata": {},
   "outputs": [],
   "source": []
  }
 ],
 "metadata": {
  "kernelspec": {
   "display_name": "Julia 1.6.3",
   "language": "julia",
   "name": "julia-1.6"
  },
  "language_info": {
   "file_extension": ".jl",
   "mimetype": "application/julia",
   "name": "julia",
   "version": "1.6.3"
  }
 },
 "nbformat": 4,
 "nbformat_minor": 5
}
